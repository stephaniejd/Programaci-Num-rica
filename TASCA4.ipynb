{
 "cells": [
  {
   "cell_type": "markdown",
   "metadata": {},
   "source": [
    "# TASCA 4: PRÁCTICA CON PROGRAMACIÓN NUMÉRICA"
   ]
  },
  {
   "cell_type": "markdown",
   "metadata": {},
   "source": [
    "___EJERCICIO 1___"
   ]
  },
  {
   "cell_type": "code",
   "execution_count": 68,
   "metadata": {},
   "outputs": [
    {
     "name": "stdout",
     "output_type": "stream",
     "text": [
      "Nuestra Array es: [0.53031011 0.85223465 0.25728147 0.8887182  0.90648534]\n",
      "media: 0.687 mediana: 0.8522 sd: 0.2551\n",
      "var: 0.0651 cov: 0.0813 correlación: 1.0\n",
      "La Array es de 1 dimensión\n"
     ]
    }
   ],
   "source": [
    "from numpy import random\n",
    "import numpy as np\n",
    "\n",
    "#CREACION DE ARRAY\n",
    "arr = np.random.rand(5)\n",
    "\n",
    "#RESUMEN ESTADISTICO\n",
    "print('Nuestra Array es:', arr)\n",
    "print('media:', np.around(np.mean(arr),4), 'mediana:', np.around(np.median(arr),4), 'sd:', np.around(np.std(arr),4))\n",
    "print('var:', np.around(np.var(arr),4), 'cov:', np.around(np.cov(arr),4), 'correlación:', np.around(np.corrcoef(arr),4))\n",
    "\n",
    "# CONFIRMACION DE LA DIMENSION DE LA ARRAY\n",
    "if arr.ndim > 1:\n",
    "    print(\"ERROR: la array tiene más de una dimensión\")\n",
    "else:\n",
    "    print(\"La Array es de 1 dimensión\")"
   ]
  },
  {
   "cell_type": "markdown",
   "metadata": {},
   "source": [
    "___EJERCICIO 2___"
   ]
  },
  {
   "cell_type": "code",
   "execution_count": 69,
   "metadata": {},
   "outputs": [
    {
     "name": "stdout",
     "output_type": "stream",
     "text": [
      "[[49 31 75]\n",
      " [59 31 65]\n",
      " [18 84 80]]\n"
     ]
    }
   ],
   "source": [
    "# CREACION DE CUADRADO NXN\n",
    "x = random.randint(100, size=(3, 3))\n",
    "\n",
    "print(x)"
   ]
  },
  {
   "cell_type": "markdown",
   "metadata": {},
   "source": [
    "___EJERCICO 3___"
   ]
  },
  {
   "cell_type": "code",
   "execution_count": 70,
   "metadata": {},
   "outputs": [
    {
     "name": "stdout",
     "output_type": "stream",
     "text": [
      "Tabla 2D:  [[ 6  1 44]\n",
      " [12 39 22]]\n",
      "El total de cada columna es:  [[18 40 66]]\n",
      "El total de cada filas es:  [[88 52]]\n"
     ]
    }
   ],
   "source": [
    "# TABLA DE DOS DIMENSIONES\n",
    "tabla = random.randint(50, size=(2,3))\n",
    "print('Tabla 2D: ', tabla)\n",
    "\n",
    "#SUMA DE FILAS Y COLUMNAS\n",
    "sum_col = np.sum([tabla], axis= 1)\n",
    "suma_filas = np.sum([tabla], axis= 2)\n",
    "\n",
    "print('El total de cada columna es: ' , sum_col)\n",
    "print('El total de cada filas es: ' , sum_filas)\n"
   ]
  },
  {
   "cell_type": "markdown",
   "metadata": {},
   "source": [
    "___EJERCICIO 4___"
   ]
  },
  {
   "cell_type": "code",
   "execution_count": 76,
   "metadata": {},
   "outputs": [
    {
     "name": "stdout",
     "output_type": "stream",
     "text": [
      "1.0\n",
      "Hay una correlación positiva\n"
     ]
    }
   ],
   "source": [
    "#FORMULA DE CORRELACION\n",
    "\n",
    "correlacion = np.around(np.corrcoef(arr),4)\n",
    "\n",
    "print(correlacion)\n",
    "\n",
    "if correlacion == 0:\n",
    "    print('No hay asociación entre las variables')\n",
    "elif correlacion <= 1:\n",
    "    print('Hay una correlación positiva')\n",
    "else:\n",
    "    print('Hay una correlación negativa')"
   ]
  }
 ],
 "metadata": {
  "kernelspec": {
   "display_name": "Python 3",
   "language": "python",
   "name": "python3"
  },
  "language_info": {
   "codemirror_mode": {
    "name": "ipython",
    "version": 3
   },
   "file_extension": ".py",
   "mimetype": "text/x-python",
   "name": "python",
   "nbconvert_exporter": "python",
   "pygments_lexer": "ipython3",
   "version": "3.8.5"
  }
 },
 "nbformat": 4,
 "nbformat_minor": 4
}
